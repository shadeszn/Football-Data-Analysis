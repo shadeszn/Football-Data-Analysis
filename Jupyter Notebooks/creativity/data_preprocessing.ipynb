{
 "cells": [
  {
   "cell_type": "code",
   "execution_count": 1,
   "id": "11edffe3-1c14-43ea-b491-749941da870a",
   "metadata": {},
   "outputs": [],
   "source": [
    "import pandas as pd"
   ]
  },
  {
   "cell_type": "code",
   "execution_count": 2,
   "id": "7f12486f-be3b-44bc-8158-cb5326d9db0f",
   "metadata": {
    "tags": []
   },
   "outputs": [],
   "source": [
    "df = pd.read_csv('D:/stats project/rawdata_csv/big5_league_sca.csv')"
   ]
  },
  {
   "cell_type": "code",
   "execution_count": 3,
   "id": "3f432d0c-7399-4893-ae9d-f1d91592de80",
   "metadata": {},
   "outputs": [
    {
     "data": {
      "text/plain": [
       "Index(['Rk', 'Player', 'Nation', 'Pos', 'Squad', 'Comp', 'Age', 'Born', '90s',\n",
       "       'SCA', 'SCA90', 'PassLive', 'PassDead', 'Drib', 'Sh', 'Fld', 'Def',\n",
       "       'GCA', 'GCA90', 'PassLive.1', 'PassDead.1', 'Drib.1', 'Sh.1', 'Fld.1',\n",
       "       'Def.1', 'Matches', '-9999'],\n",
       "      dtype='object')"
      ]
     },
     "execution_count": 3,
     "metadata": {},
     "output_type": "execute_result"
    }
   ],
   "source": [
    "df.columns"
   ]
  },
  {
   "cell_type": "code",
   "execution_count": 6,
   "id": "48b8de05-29e0-42bc-a979-a570afa65d80",
   "metadata": {},
   "outputs": [],
   "source": [
    "df = df.drop(['Rk','Nation', 'Pos', 'Comp', 'Age', 'Born', 'PassDead', 'Sh', 'Fld', 'Def',\n",
    "       'GCA', 'GCA90', 'PassLive.1', 'PassDead.1', 'Drib.1', 'Sh.1', 'Fld.1',\n",
    "       'Def.1', 'Matches', '-9999'],axis=1)"
   ]
  },
  {
   "cell_type": "code",
   "execution_count": 7,
   "id": "abcf9d24-04aa-4ea4-aea7-ce409cef0356",
   "metadata": {},
   "outputs": [
    {
     "data": {
      "text/html": [
       "<div>\n",
       "<style scoped>\n",
       "    .dataframe tbody tr th:only-of-type {\n",
       "        vertical-align: middle;\n",
       "    }\n",
       "\n",
       "    .dataframe tbody tr th {\n",
       "        vertical-align: top;\n",
       "    }\n",
       "\n",
       "    .dataframe thead th {\n",
       "        text-align: right;\n",
       "    }\n",
       "</style>\n",
       "<table border=\"1\" class=\"dataframe\">\n",
       "  <thead>\n",
       "    <tr style=\"text-align: right;\">\n",
       "      <th></th>\n",
       "      <th>Player</th>\n",
       "      <th>Squad</th>\n",
       "      <th>90s</th>\n",
       "      <th>SCA</th>\n",
       "      <th>SCA90</th>\n",
       "      <th>PassLive</th>\n",
       "      <th>Drib</th>\n",
       "    </tr>\n",
       "  </thead>\n",
       "  <tbody>\n",
       "    <tr>\n",
       "      <th>0</th>\n",
       "      <td>Lautaro Martínez</td>\n",
       "      <td>Inter</td>\n",
       "      <td>25.4</td>\n",
       "      <td>76</td>\n",
       "      <td>3.00</td>\n",
       "      <td>47</td>\n",
       "      <td>3</td>\n",
       "    </tr>\n",
       "    <tr>\n",
       "      <th>1</th>\n",
       "      <td>Lorenzo Pellegrini</td>\n",
       "      <td>Roma</td>\n",
       "      <td>25.4</td>\n",
       "      <td>135</td>\n",
       "      <td>5.31</td>\n",
       "      <td>54</td>\n",
       "      <td>9</td>\n",
       "    </tr>\n",
       "    <tr>\n",
       "      <th>2</th>\n",
       "      <td>Mohamed Salah</td>\n",
       "      <td>Liverpool</td>\n",
       "      <td>30.7</td>\n",
       "      <td>133</td>\n",
       "      <td>4.33</td>\n",
       "      <td>93</td>\n",
       "      <td>21</td>\n",
       "    </tr>\n",
       "    <tr>\n",
       "      <th>3</th>\n",
       "      <td>Kylian Mbappé</td>\n",
       "      <td>Paris S-G</td>\n",
       "      <td>33.6</td>\n",
       "      <td>172</td>\n",
       "      <td>5.12</td>\n",
       "      <td>107</td>\n",
       "      <td>28</td>\n",
       "    </tr>\n",
       "    <tr>\n",
       "      <th>4</th>\n",
       "      <td>Sadio Mané</td>\n",
       "      <td>Liverpool</td>\n",
       "      <td>31.3</td>\n",
       "      <td>97</td>\n",
       "      <td>3.10</td>\n",
       "      <td>67</td>\n",
       "      <td>5</td>\n",
       "    </tr>\n",
       "    <tr>\n",
       "      <th>...</th>\n",
       "      <td>...</td>\n",
       "      <td>...</td>\n",
       "      <td>...</td>\n",
       "      <td>...</td>\n",
       "      <td>...</td>\n",
       "      <td>...</td>\n",
       "      <td>...</td>\n",
       "    </tr>\n",
       "    <tr>\n",
       "      <th>2916</th>\n",
       "      <td>Nathan Young-Coombes</td>\n",
       "      <td>Brentford</td>\n",
       "      <td>0.0</td>\n",
       "      <td>0</td>\n",
       "      <td>0.00</td>\n",
       "      <td>0</td>\n",
       "      <td>0</td>\n",
       "    </tr>\n",
       "    <tr>\n",
       "      <th>2917</th>\n",
       "      <td>Luca Zidane</td>\n",
       "      <td>Rayo Vallecano</td>\n",
       "      <td>7.2</td>\n",
       "      <td>0</td>\n",
       "      <td>0.00</td>\n",
       "      <td>0</td>\n",
       "      <td>0</td>\n",
       "    </tr>\n",
       "    <tr>\n",
       "      <th>2918</th>\n",
       "      <td>Christoph Zimmermann</td>\n",
       "      <td>Norwich City</td>\n",
       "      <td>1.7</td>\n",
       "      <td>0</td>\n",
       "      <td>0.00</td>\n",
       "      <td>0</td>\n",
       "      <td>0</td>\n",
       "    </tr>\n",
       "    <tr>\n",
       "      <th>2919</th>\n",
       "      <td>Banhie Zoukrou</td>\n",
       "      <td>Troyes</td>\n",
       "      <td>0.9</td>\n",
       "      <td>0</td>\n",
       "      <td>0.00</td>\n",
       "      <td>0</td>\n",
       "      <td>0</td>\n",
       "    </tr>\n",
       "    <tr>\n",
       "      <th>2920</th>\n",
       "      <td>Petar Zovko</td>\n",
       "      <td>Spezia</td>\n",
       "      <td>0.3</td>\n",
       "      <td>0</td>\n",
       "      <td>0.00</td>\n",
       "      <td>0</td>\n",
       "      <td>0</td>\n",
       "    </tr>\n",
       "  </tbody>\n",
       "</table>\n",
       "<p>2921 rows × 7 columns</p>\n",
       "</div>"
      ],
      "text/plain": [
       "                    Player           Squad   90s  SCA  SCA90  PassLive  Drib\n",
       "0         Lautaro Martínez           Inter  25.4   76   3.00        47     3\n",
       "1       Lorenzo Pellegrini            Roma  25.4  135   5.31        54     9\n",
       "2            Mohamed Salah       Liverpool  30.7  133   4.33        93    21\n",
       "3            Kylian Mbappé       Paris S-G  33.6  172   5.12       107    28\n",
       "4               Sadio Mané       Liverpool  31.3   97   3.10        67     5\n",
       "...                    ...             ...   ...  ...    ...       ...   ...\n",
       "2916  Nathan Young-Coombes       Brentford   0.0    0   0.00         0     0\n",
       "2917           Luca Zidane  Rayo Vallecano   7.2    0   0.00         0     0\n",
       "2918  Christoph Zimmermann    Norwich City   1.7    0   0.00         0     0\n",
       "2919        Banhie Zoukrou          Troyes   0.9    0   0.00         0     0\n",
       "2920           Petar Zovko          Spezia   0.3    0   0.00         0     0\n",
       "\n",
       "[2921 rows x 7 columns]"
      ]
     },
     "execution_count": 7,
     "metadata": {},
     "output_type": "execute_result"
    }
   ],
   "source": [
    "df"
   ]
  },
  {
   "cell_type": "code",
   "execution_count": 8,
   "id": "d3ea239a-313a-48f8-b7cb-46b6553af835",
   "metadata": {},
   "outputs": [],
   "source": [
    "df.to_csv('D:/stats project/cleandata_csv/clean_sca.csv')"
   ]
  },
  {
   "cell_type": "code",
   "execution_count": null,
   "id": "0bde28a0-5720-4e68-bc26-b735783607dd",
   "metadata": {},
   "outputs": [],
   "source": []
  }
 ],
 "metadata": {
  "kernelspec": {
   "display_name": "Python 3 (ipykernel)",
   "language": "python",
   "name": "python3"
  },
  "language_info": {
   "codemirror_mode": {
    "name": "ipython",
    "version": 3
   },
   "file_extension": ".py",
   "mimetype": "text/x-python",
   "name": "python",
   "nbconvert_exporter": "python",
   "pygments_lexer": "ipython3",
   "version": "3.9.12"
  }
 },
 "nbformat": 4,
 "nbformat_minor": 5
}
