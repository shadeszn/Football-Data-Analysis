{
 "cells": [
  {
   "cell_type": "code",
   "execution_count": 2,
   "id": "dcc00418-ea19-463b-8a77-ffba364ec949",
   "metadata": {},
   "outputs": [],
   "source": [
    "import pandas as pd"
   ]
  },
  {
   "cell_type": "code",
   "execution_count": 3,
   "id": "1a424fc9-2741-4f03-8afd-1d8877e45df7",
   "metadata": {
    "tags": []
   },
   "outputs": [],
   "source": [
    "df = pd.read_csv('D:/stats project/rawdata_csv/big5_league_xStats.csv')"
   ]
  },
  {
   "cell_type": "code",
   "execution_count": 4,
   "id": "ad5427ce-b358-4717-a280-cbe85fd2c8a1",
   "metadata": {},
   "outputs": [
    {
     "data": {
      "text/plain": [
       "Index(['Rk', 'Player▲', 'Nation', 'Pos', 'Squad', 'Comp', 'Age', 'Born', 'MP',\n",
       "       'Starts', 'Min', '90s', 'Gls', 'Ast', 'G-PK', 'PK', 'PKatt', 'CrdY',\n",
       "       'CrdR', 'Gls.1', 'Ast.1', 'G+A', 'G-PK.1', 'G+A-PK', 'xG', 'npxG', 'xA',\n",
       "       'npxG+xA', 'xG.1', 'xA.1', 'xG+xA', 'npxG.1', 'npxG+xA.1', 'Matches',\n",
       "       '-9999'],\n",
       "      dtype='object')"
      ]
     },
     "execution_count": 4,
     "metadata": {},
     "output_type": "execute_result"
    }
   ],
   "source": [
    "df.columns"
   ]
  },
  {
   "cell_type": "code",
   "execution_count": 9,
   "id": "3c7d32c5-ab40-4b3c-aa10-e02b69e41728",
   "metadata": {},
   "outputs": [],
   "source": [
    "df = df.drop(['Rk','Nation', 'Pos','Comp', 'Age', 'Born', 'MP',\n",
    "       'Starts', 'Min','G-PK', 'PK', 'PKatt', 'CrdY',\n",
    "       'CrdR', 'Gls.1', 'Ast.1', 'G-PK.1', 'G+A-PK', 'Matches',\n",
    "       '-9999'],axis=1)"
   ]
  },
  {
   "cell_type": "code",
   "execution_count": 12,
   "id": "46fedafb-f3e0-449f-a458-1302cc9af672",
   "metadata": {},
   "outputs": [],
   "source": [
    "df.rename(columns = {'xG.1':'xG/90','xA.1':'xA/90','npxG.1':'npxG/90','npxG+xA.1':'npxG+xA/90'},inplace=True)"
   ]
  },
  {
   "cell_type": "code",
   "execution_count": 14,
   "id": "47e36e44-b729-4627-9a8e-8f280c93f119",
   "metadata": {},
   "outputs": [],
   "source": [
    "df.to_csv('D:/stats project/cleandata_csv/clean_xStats.csv')"
   ]
  },
  {
   "cell_type": "code",
   "execution_count": null,
   "id": "814387ef-9bce-4607-8c6e-c78d2e8cd42c",
   "metadata": {},
   "outputs": [],
   "source": []
  }
 ],
 "metadata": {
  "kernelspec": {
   "display_name": "Python 3 (ipykernel)",
   "language": "python",
   "name": "python3"
  },
  "language_info": {
   "codemirror_mode": {
    "name": "ipython",
    "version": 3
   },
   "file_extension": ".py",
   "mimetype": "text/x-python",
   "name": "python",
   "nbconvert_exporter": "python",
   "pygments_lexer": "ipython3",
   "version": "3.9.12"
  }
 },
 "nbformat": 4,
 "nbformat_minor": 5
}
