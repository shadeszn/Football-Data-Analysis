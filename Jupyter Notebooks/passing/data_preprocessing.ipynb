{
 "cells": [
  {
   "cell_type": "code",
   "execution_count": 1,
   "id": "be2ef91b-7187-472b-90d3-0bd610f73745",
   "metadata": {},
   "outputs": [],
   "source": [
    "import pandas as pd"
   ]
  },
  {
   "cell_type": "code",
   "execution_count": 2,
   "id": "9df8e445-af49-4e9a-adfd-c64a38a74629",
   "metadata": {},
   "outputs": [],
   "source": [
    "df = pd.read_csv('D:/stats project/rawdata_csv/big5_league_passing.csv')"
   ]
  },
  {
   "cell_type": "code",
   "execution_count": 3,
   "id": "6d7f0389-7249-44bb-a9e0-e6bb9d91d1e1",
   "metadata": {},
   "outputs": [
    {
     "data": {
      "text/plain": [
       "Index(['Rk', 'Player', 'Nation', 'Pos', 'Squad', 'Comp', 'Age', 'Born', '90s',\n",
       "       'Cmp', 'Att', 'Cmp%', 'TotDist', 'PrgDist', 'Cmp.1', 'Att.1', 'Cmp%.1',\n",
       "       'Cmp.2', 'Att.2', 'Cmp%.2', 'Cmp.3', 'Att.3', 'Cmp%.3', 'Ast', 'xA',\n",
       "       'A-xA', 'KP', '1/3', 'PPA', 'CrsPA', 'Prog', 'Matches', '-9999'],\n",
       "      dtype='object')"
      ]
     },
     "execution_count": 3,
     "metadata": {},
     "output_type": "execute_result"
    }
   ],
   "source": [
    "df.columns"
   ]
  },
  {
   "cell_type": "code",
   "execution_count": 4,
   "id": "b4289e38-bff8-46d1-afc4-c97752141b59",
   "metadata": {},
   "outputs": [],
   "source": [
    "df = df.drop(['Rk', 'Comp', 'Age', 'Nation', 'Pos', 'Born', 'TotDist', 'PrgDist', 'Cmp.1', 'Att.1', 'Cmp%.1',\n",
    "       'Cmp.2', 'Att.2', 'Cmp%.2', 'Cmp.3', 'Att.3', 'Cmp%.3', 'Ast', 'xA',\n",
    "       'A-xA', 'KP', '1/3', 'PPA', 'CrsPA', 'Prog', 'Matches', '-9999'],axis=1)"
   ]
  },
  {
   "cell_type": "code",
   "execution_count": 6,
   "id": "0e6cf41e-21c4-4d6f-b37c-6a7cd0df3873",
   "metadata": {},
   "outputs": [],
   "source": [
    "df.to_csv('D:/stats project/cleandata_csv/clean_passing.csv')"
   ]
  },
  {
   "cell_type": "code",
   "execution_count": null,
   "id": "c454838f-5d56-4fac-aeeb-6f86c7c15f25",
   "metadata": {},
   "outputs": [],
   "source": []
  }
 ],
 "metadata": {
  "kernelspec": {
   "display_name": "Python 3 (ipykernel)",
   "language": "python",
   "name": "python3"
  },
  "language_info": {
   "codemirror_mode": {
    "name": "ipython",
    "version": 3
   },
   "file_extension": ".py",
   "mimetype": "text/x-python",
   "name": "python",
   "nbconvert_exporter": "python",
   "pygments_lexer": "ipython3",
   "version": "3.9.12"
  }
 },
 "nbformat": 4,
 "nbformat_minor": 5
}
